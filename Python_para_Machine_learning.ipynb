{
  "nbformat": 4,
  "nbformat_minor": 0,
  "metadata": {
    "colab": {
      "provenance": [],
      "authorship_tag": "ABX9TyNuQwJmm/YINlKrqplVrLrZ",
      "include_colab_link": true
    },
    "kernelspec": {
      "name": "python3",
      "display_name": "Python 3"
    },
    "language_info": {
      "name": "python"
    }
  },
  "cells": [
    {
      "cell_type": "markdown",
      "metadata": {
        "id": "view-in-github",
        "colab_type": "text"
      },
      "source": [
        "<a href=\"https://colab.research.google.com/github/moraesleonardo/Python_para_Machine_Learning/blob/main/Python_para_Machine_learning.ipynb\" target=\"_parent\"><img src=\"https://colab.research.google.com/assets/colab-badge.svg\" alt=\"Open In Colab\"/></a>"
      ]
    },
    {
      "cell_type": "markdown",
      "source": [
        "# **Introdução à linguagem Python**"
      ],
      "metadata": {
        "id": "XqJi8dRGeGJC"
      }
    },
    {
      "cell_type": "markdown",
      "source": [
        "## Histórico e objetivos\n",
        "- Criada por Guido van Hossum, no final dos anos 1980.\n",
        "- Um objetivo era criar uma linguagem de fácil acesso para iniciantes.\n",
        "- Guido participou do trabalho de evolução da linguagem até 2018.\n",
        "- Linguagem Open Source.\n",
        "- Comunidade forte e ativa.\n",
        "- Ampla disponibilidade de Bibliotecas."
      ],
      "metadata": {
        "id": "pXxmWAmWeCby"
      }
    },
    {
      "cell_type": "markdown",
      "source": [
        "## Iniciando\n",
        "- Distribuições\n",
        "- IDEs\n",
        "- Primeiros exemplos"
      ],
      "metadata": {
        "id": "MVc-XPfueUKp"
      }
    },
    {
      "cell_type": "markdown",
      "source": [
        "## Referências para linguagem Jupyter Markdown\n",
        "\n",
        "- [Jupyter Notebook Users Manual, Jupyter at Bryn Mawr College](https://jupyter.brynmawr.edu/services/public/dblank/Jupyter%20Notebook%20Users%20Manual.ipynb)\n",
        "- [Markdown for Jupyter notebooks cheatsheet, IBM]([https://www.ibm.com/docs/en/watson-studio-local/1.2.3?topic=notebooks-markdown-jupyter-cheatsheet)"
      ],
      "metadata": {
        "id": "3yHMp5_9eXYJ"
      }
    },
    {
      "cell_type": "markdown",
      "source": [
        "## Primeiros exemplos\n",
        "\n",
        "Enviando texto para a tela:"
      ],
      "metadata": {
        "id": "Zw9Jam7demXQ"
      }
    },
    {
      "cell_type": "code",
      "source": [
        "print('Olá Turma!')"
      ],
      "metadata": {
        "colab": {
          "base_uri": "https://localhost:8080/"
        },
        "id": "3HDAo6JEesaN",
        "outputId": "64430f37-9c4b-421a-a260-33e84b403e7b"
      },
      "execution_count": 2,
      "outputs": [
        {
          "output_type": "stream",
          "name": "stdout",
          "text": [
            "Olá Turma!\n"
          ]
        }
      ]
    },
    {
      "cell_type": "markdown",
      "source": [
        "Comentando o código:"
      ],
      "metadata": {
        "id": "dt2iHwWHeveX"
      }
    },
    {
      "cell_type": "code",
      "source": [
        "# Comentário antes de código.\n",
        "print('Olá Python!')\n",
        "print('Estamos aprendendo!') # Comentário em linha."
      ],
      "metadata": {
        "colab": {
          "base_uri": "https://localhost:8080/"
        },
        "id": "VoVH_yUkex53",
        "outputId": "c61b8210-d156-43a5-d205-ee3d6604a865"
      },
      "execution_count": 3,
      "outputs": [
        {
          "output_type": "stream",
          "name": "stdout",
          "text": [
            "Olá Python!\n",
            "Estamos aprendendo!\n"
          ]
        }
      ]
    },
    {
      "cell_type": "markdown",
      "source": [
        "Palavras reservadas (não podem ser utilizadas como nomes de objetos!)"
      ],
      "metadata": {
        "id": "qPAJYs60e4sQ"
      }
    },
    {
      "cell_type": "markdown",
      "source": [
        "```\n",
        "and        del       from      not        while\n",
        "as         elif      global    or         with\n",
        "assert     else      if        pass       yield\n",
        "break      except    import    print\n",
        "class      exec      in        raise\n",
        "continue   finally   is        return\n",
        "def        for       lambda    try\n",
        "```"
      ],
      "metadata": {
        "id": "iz9X7C_Qe6FG"
      }
    },
    {
      "cell_type": "markdown",
      "source": [
        "## Trabalhando com texto"
      ],
      "metadata": {
        "id": "964FwRhre9GH"
      }
    },
    {
      "cell_type": "markdown",
      "source": [
        "### Criando strings."
      ],
      "metadata": {
        "id": "MT5MTvAQfBCX"
      }
    },
    {
      "cell_type": "code",
      "source": [
        "meu_texto = \"Estamos aprendendo Python!\"\n",
        "outro_texto = 'Mais um texto.'\n",
        "um_texto_longo = '''Este é\n",
        "um texto muito grande. Ele ocupa\n",
        "algumas linhas.'''\n",
        "um_texto_longo_2 = \"\"\"Este é um texto grande. \n",
        "Ele ocupa duas linhas.\"\"\"\n",
        "aspas_dentro_aspas = 'A palavra \"Python\" normalmente diz respeito a uma cobra.'\n",
        "aspas_dentro_aspas_2 = \"A palavra 'Python' normalmente diz respeito a uma cobra.\"\n",
        "texto_triplo = \"\"\"Uma outra forma de incluir \"aspas\" em um texto.\"\"\"\n",
        "outras_aspas = 'A palavra \\\"Python\\\" normalmente diz respeito a uma cobra.'\n",
        "\n",
        "print(meu_texto)\n",
        "print(outro_texto)\n",
        "print()\n",
        "print(um_texto_longo)\n",
        "print()\n",
        "print(um_texto_longo_2)\n",
        "print()\n",
        "print(aspas_dentro_aspas)\n",
        "print(aspas_dentro_aspas_2)\n",
        "print(texto_triplo)\n",
        "print(outras_aspas)"
      ],
      "metadata": {
        "colab": {
          "base_uri": "https://localhost:8080/"
        },
        "id": "Jsaj5S4ufCJH",
        "outputId": "68d3d713-6012-4bda-de62-5bd443cb4a62"
      },
      "execution_count": 4,
      "outputs": [
        {
          "output_type": "stream",
          "name": "stdout",
          "text": [
            "Estamos aprendendo Python!\n",
            "Mais um texto.\n",
            "\n",
            "Este é\n",
            "um texto muito grande. Ele ocupa\n",
            "algumas linhas.\n",
            "\n",
            "Este é um texto grande. \n",
            "Ele ocupa duas linhas.\n",
            "\n",
            "A palavra \"Python\" normalmente diz respeito a uma cobra.\n",
            "A palavra 'Python' normalmente diz respeito a uma cobra.\n",
            "Uma outra forma de incluir \"aspas\" em um texto.\n",
            "A palavra \"Python\" normalmente diz respeito a uma cobra.\n"
          ]
        }
      ]
    },
    {
      "cell_type": "markdown",
      "source": [
        "### Fazendo conversões para string."
      ],
      "metadata": {
        "id": "Qq-QjYbifNVW"
      }
    },
    {
      "cell_type": "code",
      "source": [
        "numero = 123\n",
        "texto_do_numero = str(numero)\n",
        "print(texto_do_numero)"
      ],
      "metadata": {
        "colab": {
          "base_uri": "https://localhost:8080/"
        },
        "id": "AZX85JBbfR9e",
        "outputId": "78a32645-b880-413c-e4b8-1c2f20cf265c"
      },
      "execution_count": 5,
      "outputs": [
        {
          "output_type": "stream",
          "name": "stdout",
          "text": [
            "123\n"
          ]
        }
      ]
    },
    {
      "cell_type": "markdown",
      "source": [
        "Tecnicamente, esta conversão chama-se 'casting'. Podemos fazer a conversão de alguns tipos de dados em outros, porém com limitações. \n",
        "\n",
        "Podemos, por exemplo, converter números para texto, porém o contrário nem sempre é possível (imagine converter o texto 'ABC' para número!)."
      ],
      "metadata": {
        "id": "JG3lIICzff9l"
      }
    },
    {
      "cell_type": "code",
      "source": [
        "int('ABC')"
      ],
      "metadata": {
        "colab": {
          "base_uri": "https://localhost:8080/",
          "height": 165
        },
        "id": "Pmz2iU4Lfl6l",
        "outputId": "19e79e16-cea6-478f-c887-f2fe11106681"
      },
      "execution_count": 6,
      "outputs": [
        {
          "output_type": "error",
          "ename": "ValueError",
          "evalue": "ignored",
          "traceback": [
            "\u001b[0;31m---------------------------------------------------------------------------\u001b[0m",
            "\u001b[0;31mValueError\u001b[0m                                Traceback (most recent call last)",
            "\u001b[0;32m<ipython-input-6-9f8eda398053>\u001b[0m in \u001b[0;36m<cell line: 1>\u001b[0;34m()\u001b[0m\n\u001b[0;32m----> 1\u001b[0;31m \u001b[0mint\u001b[0m\u001b[0;34m(\u001b[0m\u001b[0;34m'ABC'\u001b[0m\u001b[0;34m)\u001b[0m\u001b[0;34m\u001b[0m\u001b[0;34m\u001b[0m\u001b[0m\n\u001b[0m",
            "\u001b[0;31mValueError\u001b[0m: invalid literal for int() with base 10: 'ABC'"
          ]
        }
      ]
    },
    {
      "cell_type": "code",
      "source": [
        "int('123')"
      ],
      "metadata": {
        "colab": {
          "base_uri": "https://localhost:8080/"
        },
        "id": "qpR8Y4KNfnx0",
        "outputId": "8af8139d-40d6-4d23-e113-3eefb349b8f6"
      },
      "execution_count": 7,
      "outputs": [
        {
          "output_type": "execute_result",
          "data": {
            "text/plain": [
              "123"
            ]
          },
          "metadata": {},
          "execution_count": 7
        }
      ]
    },
    {
      "cell_type": "code",
      "source": [
        "print(int(123)+int(123))"
      ],
      "metadata": {
        "colab": {
          "base_uri": "https://localhost:8080/"
        },
        "id": "8NTgaQIDfqLF",
        "outputId": "fd53d9ba-d2d6-4af9-e692-5a70110114d7"
      },
      "execution_count": 8,
      "outputs": [
        {
          "output_type": "stream",
          "name": "stdout",
          "text": [
            "246\n"
          ]
        }
      ]
    },
    {
      "cell_type": "markdown",
      "source": [
        "Um detalhe importante sobre strings em Python é que são imutáveis, ou seja, não podem ser alteradas após a criação. \n",
        "\n",
        "Podemos ver também que os caracteres de uma string são indexados (Mais sobre esta indexação à frente).\n",
        "\n",
        "Vamos criar uma string e tentar alterar a primeira letra:"
      ],
      "metadata": {
        "id": "N8mtLAFcf11E"
      }
    },
    {
      "cell_type": "code",
      "source": [
        "meu_texto_2 = 'cassius'\n",
        "print(meu_texto_2)"
      ],
      "metadata": {
        "colab": {
          "base_uri": "https://localhost:8080/"
        },
        "id": "OZM09JWTf2xU",
        "outputId": "e47bcc3f-eabd-4761-f6ac-801a811408a6"
      },
      "execution_count": 11,
      "outputs": [
        {
          "output_type": "stream",
          "name": "stdout",
          "text": [
            "cassius\n"
          ]
        }
      ]
    },
    {
      "cell_type": "code",
      "source": [
        "meu_texto_2[0] = 'C' \n",
        "print(meu_texto_2)"
      ],
      "metadata": {
        "colab": {
          "base_uri": "https://localhost:8080/",
          "height": 183
        },
        "id": "T6lIkud2f-PP",
        "outputId": "c7a72185-1719-40e8-ba94-25ce44baa072"
      },
      "execution_count": 12,
      "outputs": [
        {
          "output_type": "error",
          "ename": "TypeError",
          "evalue": "ignored",
          "traceback": [
            "\u001b[0;31m---------------------------------------------------------------------------\u001b[0m",
            "\u001b[0;31mTypeError\u001b[0m                                 Traceback (most recent call last)",
            "\u001b[0;32m<ipython-input-12-db4a3e626730>\u001b[0m in \u001b[0;36m<cell line: 1>\u001b[0;34m()\u001b[0m\n\u001b[0;32m----> 1\u001b[0;31m \u001b[0mmeu_texto_2\u001b[0m\u001b[0;34m[\u001b[0m\u001b[0;36m0\u001b[0m\u001b[0;34m]\u001b[0m \u001b[0;34m=\u001b[0m \u001b[0;34m'C'\u001b[0m\u001b[0;34m\u001b[0m\u001b[0;34m\u001b[0m\u001b[0m\n\u001b[0m\u001b[1;32m      2\u001b[0m \u001b[0mprint\u001b[0m\u001b[0;34m(\u001b[0m\u001b[0mmeu_texto_2\u001b[0m\u001b[0;34m)\u001b[0m\u001b[0;34m\u001b[0m\u001b[0;34m\u001b[0m\u001b[0m\n",
            "\u001b[0;31mTypeError\u001b[0m: 'str' object does not support item assignment"
          ]
        }
      ]
    },
    {
      "cell_type": "markdown",
      "source": [
        "### Concatenando strings"
      ],
      "metadata": {
        "id": "MPsXqgzzgHjl"
      }
    },
    {
      "cell_type": "code",
      "source": [
        "texto_1 = 'abc'\n",
        "texto_2 = 'def'\n",
        "texto_3 = ' - '\n",
        "texto_completo = texto_1 + texto_3 + texto_2\n",
        "print(texto_completo)"
      ],
      "metadata": {
        "colab": {
          "base_uri": "https://localhost:8080/"
        },
        "id": "7l3bCztEgJc6",
        "outputId": "8d5d01f2-3a5a-437b-b0be-ed981ead3319"
      },
      "execution_count": 13,
      "outputs": [
        {
          "output_type": "stream",
          "name": "stdout",
          "text": [
            "abc - def\n"
          ]
        }
      ]
    },
    {
      "cell_type": "markdown",
      "source": [
        "E se quiséssemos concatenar texto com números? \n",
        "\n",
        "Primeira tentativa:"
      ],
      "metadata": {
        "id": "FpRNkgMQgSJc"
      }
    },
    {
      "cell_type": "code",
      "source": [
        "texto_1 = 'abc'\n",
        "texto_2 = 123\n",
        "texto_3 = ' - '\n",
        "texto_completo = texto_1 + texto_3 + texto_2\n",
        "print(texto_completo)"
      ],
      "metadata": {
        "colab": {
          "base_uri": "https://localhost:8080/",
          "height": 217
        },
        "id": "v7EbIaXwgUDp",
        "outputId": "68605a90-578d-4fe6-ef31-e2eb2b48149d"
      },
      "execution_count": 14,
      "outputs": [
        {
          "output_type": "error",
          "ename": "TypeError",
          "evalue": "ignored",
          "traceback": [
            "\u001b[0;31m---------------------------------------------------------------------------\u001b[0m",
            "\u001b[0;31mTypeError\u001b[0m                                 Traceback (most recent call last)",
            "\u001b[0;32m<ipython-input-14-e5e41454a240>\u001b[0m in \u001b[0;36m<cell line: 4>\u001b[0;34m()\u001b[0m\n\u001b[1;32m      2\u001b[0m \u001b[0mtexto_2\u001b[0m \u001b[0;34m=\u001b[0m \u001b[0;36m123\u001b[0m\u001b[0;34m\u001b[0m\u001b[0;34m\u001b[0m\u001b[0m\n\u001b[1;32m      3\u001b[0m \u001b[0mtexto_3\u001b[0m \u001b[0;34m=\u001b[0m \u001b[0;34m' - '\u001b[0m\u001b[0;34m\u001b[0m\u001b[0;34m\u001b[0m\u001b[0m\n\u001b[0;32m----> 4\u001b[0;31m \u001b[0mtexto_completo\u001b[0m \u001b[0;34m=\u001b[0m \u001b[0mtexto_1\u001b[0m \u001b[0;34m+\u001b[0m \u001b[0mtexto_3\u001b[0m \u001b[0;34m+\u001b[0m \u001b[0mtexto_2\u001b[0m\u001b[0;34m\u001b[0m\u001b[0;34m\u001b[0m\u001b[0m\n\u001b[0m\u001b[1;32m      5\u001b[0m \u001b[0mprint\u001b[0m\u001b[0;34m(\u001b[0m\u001b[0mtexto_completo\u001b[0m\u001b[0;34m)\u001b[0m\u001b[0;34m\u001b[0m\u001b[0;34m\u001b[0m\u001b[0m\n",
            "\u001b[0;31mTypeError\u001b[0m: can only concatenate str (not \"int\") to str"
          ]
        }
      ]
    },
    {
      "cell_type": "markdown",
      "source": [
        "Vamos consertar isso..."
      ],
      "metadata": {
        "id": "ICQyea7Qgc8h"
      }
    },
    {
      "cell_type": "code",
      "source": [
        "texto_1 = 'abc'\n",
        "texto_2 = str(123)\n",
        "texto_3 = ' - '\n",
        "texto_completo = texto_1 + texto_3 + texto_2\n",
        "print(texto_completo)"
      ],
      "metadata": {
        "colab": {
          "base_uri": "https://localhost:8080/"
        },
        "id": "6xmdcTGYgdVy",
        "outputId": "e9b8b834-1879-4229-ca52-351f8ada9749"
      },
      "execution_count": 15,
      "outputs": [
        {
          "output_type": "stream",
          "name": "stdout",
          "text": [
            "abc - 123\n"
          ]
        }
      ]
    },
    {
      "cell_type": "markdown",
      "source": [
        "Agora, uma forma mais simples...\n",
        "\n",
        "Olhem como o Python já adiciona espaços entre os elementos!"
      ],
      "metadata": {
        "id": "cr5URNAWgjXC"
      }
    },
    {
      "cell_type": "code",
      "source": [
        "texto_1 = 'abc'\n",
        "texto_2 = 123\n",
        "texto_3 = ' - '\n",
        "print(texto_1,texto_3,texto_2)"
      ],
      "metadata": {
        "colab": {
          "base_uri": "https://localhost:8080/"
        },
        "id": "O65GPyDagkVK",
        "outputId": "45cd501a-ef11-42fd-fc28-c9ca50900212"
      },
      "execution_count": 16,
      "outputs": [
        {
          "output_type": "stream",
          "name": "stdout",
          "text": [
            "abc  -  123\n"
          ]
        }
      ]
    },
    {
      "cell_type": "markdown",
      "source": [
        "Strings em Python são, na verdade, objetos pois Python é uma linguagem orientada a objetos.\n",
        "\n",
        "Assim, temos métodos disponíveis para usar com estes tipos de objetos. Alguns exemplos:"
      ],
      "metadata": {
        "id": "4nUrkgVlgxQj"
      }
    },
    {
      "cell_type": "code",
      "source": [
        "teste_de_texto = '   este é um texto em MINúsculas e MAIÚSculas!   '\n",
        "\n",
        "# Convertendo para maiúsculas.\n",
        "print(teste_de_texto[4].upper() + teste_de_texto[5].lower())"
      ],
      "metadata": {
        "colab": {
          "base_uri": "https://localhost:8080/"
        },
        "id": "rv08A7yLgyS5",
        "outputId": "6f00e491-e3ec-48cd-c144-967127db4dd5"
      },
      "execution_count": 17,
      "outputs": [
        {
          "output_type": "stream",
          "name": "stdout",
          "text": [
            "St\n"
          ]
        }
      ]
    },
    {
      "cell_type": "code",
      "source": [
        "# Convertendo para minúsculas.\n",
        "print(teste_de_texto.lower())"
      ],
      "metadata": {
        "colab": {
          "base_uri": "https://localhost:8080/"
        },
        "id": "pOZBNseZg8-y",
        "outputId": "9f81fd29-0a3a-4b10-d204-bf0f82157943"
      },
      "execution_count": 18,
      "outputs": [
        {
          "output_type": "stream",
          "name": "stdout",
          "text": [
            "   este é um texto em minúsculas e maiúsculas!   \n"
          ]
        }
      ]
    },
    {
      "cell_type": "code",
      "source": [
        "# Convertendo para maiúsculas.\n",
        "\n",
        "print(teste_de_texto.upper())"
      ],
      "metadata": {
        "colab": {
          "base_uri": "https://localhost:8080/"
        },
        "id": "7a-UvU9JhBe3",
        "outputId": "143f26fc-e1d8-4d3f-bc6d-2dfe650ee913"
      },
      "execution_count": 19,
      "outputs": [
        {
          "output_type": "stream",
          "name": "stdout",
          "text": [
            "   ESTE É UM TEXTO EM MINÚSCULAS E MAIÚSCULAS!   \n"
          ]
        }
      ]
    },
    {
      "cell_type": "code",
      "source": [
        "# Eliminando os espaços iniciais e finais.\n",
        "print(teste_de_texto.strip())"
      ],
      "metadata": {
        "colab": {
          "base_uri": "https://localhost:8080/"
        },
        "id": "vPvJ8eSphFjH",
        "outputId": "bdbe5706-405b-4ef5-8f6d-3986a90a2cd1"
      },
      "execution_count": 20,
      "outputs": [
        {
          "output_type": "stream",
          "name": "stdout",
          "text": [
            "este é um texto em MINúsculas e MAIÚSculas!\n"
          ]
        }
      ]
    },
    {
      "cell_type": "markdown",
      "source": [
        "Como saber os métodos disponíveis para um objeto?\n",
        "\n",
        "Podemos desconsiderar os métodos que iniciam e terminam com sublinhados duplos pois são usados em cenários específicos!"
      ],
      "metadata": {
        "id": "F7yB9MpTjy0P"
      }
    },
    {
      "cell_type": "code",
      "source": [
        "dir(teste_de_texto)"
      ],
      "metadata": {
        "colab": {
          "base_uri": "https://localhost:8080/"
        },
        "id": "sOcl99tfj7FV",
        "outputId": "95eacd1b-324b-4a90-b297-7d5287238580"
      },
      "execution_count": 21,
      "outputs": [
        {
          "output_type": "execute_result",
          "data": {
            "text/plain": [
              "['__add__',\n",
              " '__class__',\n",
              " '__contains__',\n",
              " '__delattr__',\n",
              " '__dir__',\n",
              " '__doc__',\n",
              " '__eq__',\n",
              " '__format__',\n",
              " '__ge__',\n",
              " '__getattribute__',\n",
              " '__getitem__',\n",
              " '__getnewargs__',\n",
              " '__gt__',\n",
              " '__hash__',\n",
              " '__init__',\n",
              " '__init_subclass__',\n",
              " '__iter__',\n",
              " '__le__',\n",
              " '__len__',\n",
              " '__lt__',\n",
              " '__mod__',\n",
              " '__mul__',\n",
              " '__ne__',\n",
              " '__new__',\n",
              " '__reduce__',\n",
              " '__reduce_ex__',\n",
              " '__repr__',\n",
              " '__rmod__',\n",
              " '__rmul__',\n",
              " '__setattr__',\n",
              " '__sizeof__',\n",
              " '__str__',\n",
              " '__subclasshook__',\n",
              " 'capitalize',\n",
              " 'casefold',\n",
              " 'center',\n",
              " 'count',\n",
              " 'encode',\n",
              " 'endswith',\n",
              " 'expandtabs',\n",
              " 'find',\n",
              " 'format',\n",
              " 'format_map',\n",
              " 'index',\n",
              " 'isalnum',\n",
              " 'isalpha',\n",
              " 'isascii',\n",
              " 'isdecimal',\n",
              " 'isdigit',\n",
              " 'isidentifier',\n",
              " 'islower',\n",
              " 'isnumeric',\n",
              " 'isprintable',\n",
              " 'isspace',\n",
              " 'istitle',\n",
              " 'isupper',\n",
              " 'join',\n",
              " 'ljust',\n",
              " 'lower',\n",
              " 'lstrip',\n",
              " 'maketrans',\n",
              " 'partition',\n",
              " 'removeprefix',\n",
              " 'removesuffix',\n",
              " 'replace',\n",
              " 'rfind',\n",
              " 'rindex',\n",
              " 'rjust',\n",
              " 'rpartition',\n",
              " 'rsplit',\n",
              " 'rstrip',\n",
              " 'split',\n",
              " 'splitlines',\n",
              " 'startswith',\n",
              " 'strip',\n",
              " 'swapcase',\n",
              " 'title',\n",
              " 'translate',\n",
              " 'upper',\n",
              " 'zfill']"
            ]
          },
          "metadata": {},
          "execution_count": 21
        }
      ]
    },
    {
      "cell_type": "markdown",
      "source": [
        "Se quisermos mais detalhes sobre um método específico, podemos usar a função 'help':"
      ],
      "metadata": {
        "id": "KDEcGP2ukDKt"
      }
    },
    {
      "cell_type": "code",
      "source": [
        "help(teste_de_texto.capitalize)"
      ],
      "metadata": {
        "colab": {
          "base_uri": "https://localhost:8080/"
        },
        "id": "uc23EWDakFk1",
        "outputId": "0c219cff-02c9-4517-cad7-2d06d8db00c6"
      },
      "execution_count": 22,
      "outputs": [
        {
          "output_type": "stream",
          "name": "stdout",
          "text": [
            "Help on built-in function capitalize:\n",
            "\n",
            "capitalize() method of builtins.str instance\n",
            "    Return a capitalized version of the string.\n",
            "    \n",
            "    More specifically, make the first character have upper case and the rest lower\n",
            "    case.\n",
            "\n"
          ]
        }
      ]
    },
    {
      "cell_type": "markdown",
      "source": [
        "E como podemos descobrir o tipo de um objeto?"
      ],
      "metadata": {
        "id": "P_LvxWDpkMc0"
      }
    },
    {
      "cell_type": "code",
      "source": [
        "type(teste_de_texto)"
      ],
      "metadata": {
        "colab": {
          "base_uri": "https://localhost:8080/"
        },
        "id": "2m0SpQgHkG-N",
        "outputId": "15b3e04a-7e75-4de4-9fd3-a315ab16bd54"
      },
      "execution_count": 23,
      "outputs": [
        {
          "output_type": "execute_result",
          "data": {
            "text/plain": [
              "str"
            ]
          },
          "metadata": {},
          "execution_count": 23
        }
      ]
    },
    {
      "cell_type": "markdown",
      "source": [
        "### \"Fatiando\" strings!\n",
        "E se quisermos acessar \"subconjuntos\" de strings?"
      ],
      "metadata": {
        "id": "obC1NEDNkR7s"
      }
    },
    {
      "cell_type": "code",
      "source": [
        "texto_fatiar = 'Eu gosto muito de Python!'\n",
        "texto_fatiar[0:1]"
      ],
      "metadata": {
        "colab": {
          "base_uri": "https://localhost:8080/",
          "height": 35
        },
        "id": "acmtZcqvkT_0",
        "outputId": "3527f15c-e8a0-4f99-e26c-c9d1499d0260"
      },
      "execution_count": 24,
      "outputs": [
        {
          "output_type": "execute_result",
          "data": {
            "text/plain": [
              "'E'"
            ],
            "application/vnd.google.colaboratory.intrinsic+json": {
              "type": "string"
            }
          },
          "metadata": {},
          "execution_count": 24
        }
      ]
    },
    {
      "cell_type": "markdown",
      "source": [
        "Lembrando que Python é uma linguagem 'zero-based', ou seja, as contagens iniciam da posição zero.\n",
        "\n",
        "Atenção também que o valor do limite superior não é considerado!"
      ],
      "metadata": {
        "id": "tmobH96pkZXL"
      }
    },
    {
      "cell_type": "markdown",
      "source": [
        "```\n",
        " E u   g o s t o   m  u  i  t  o     d  e     P  y  t  h  o  n  !\n",
        " 0 1 2 3 4 5 6 7 8 9 10 11 12 13 14 15 16 17 18 19 20 21 22 23 24\n",
        "```"
      ],
      "metadata": {
        "id": "SMKzoFS_kb8z"
      }
    },
    {
      "cell_type": "code",
      "source": [
        "texto_fatiar[0:8]"
      ],
      "metadata": {
        "colab": {
          "base_uri": "https://localhost:8080/",
          "height": 35
        },
        "id": "aawrj_xwkY8u",
        "outputId": "709ca451-fc64-4b0f-e7c0-6f50bf68c5c0"
      },
      "execution_count": 25,
      "outputs": [
        {
          "output_type": "execute_result",
          "data": {
            "text/plain": [
              "'Eu gosto'"
            ],
            "application/vnd.google.colaboratory.intrinsic+json": {
              "type": "string"
            }
          },
          "metadata": {},
          "execution_count": 25
        }
      ]
    },
    {
      "cell_type": "code",
      "source": [
        "texto_fatiar[18:24]"
      ],
      "metadata": {
        "colab": {
          "base_uri": "https://localhost:8080/",
          "height": 35
        },
        "id": "kWiwe-iLkgxj",
        "outputId": "6155b0ed-8812-4bbd-e7be-80c547e5c755"
      },
      "execution_count": 26,
      "outputs": [
        {
          "output_type": "execute_result",
          "data": {
            "text/plain": [
              "'Python'"
            ],
            "application/vnd.google.colaboratory.intrinsic+json": {
              "type": "string"
            }
          },
          "metadata": {},
          "execution_count": 26
        }
      ]
    },
    {
      "cell_type": "code",
      "source": [
        "texto_fatiar[:]"
      ],
      "metadata": {
        "colab": {
          "base_uri": "https://localhost:8080/",
          "height": 35
        },
        "id": "gUSnIytDkjck",
        "outputId": "6a320b67-ad00-4be3-f6b8-0af8a477f4bb"
      },
      "execution_count": 27,
      "outputs": [
        {
          "output_type": "execute_result",
          "data": {
            "text/plain": [
              "'Eu gosto muito de Python!'"
            ],
            "application/vnd.google.colaboratory.intrinsic+json": {
              "type": "string"
            }
          },
          "metadata": {},
          "execution_count": 27
        }
      ]
    },
    {
      "cell_type": "code",
      "source": [
        "texto_fatiar[:14]"
      ],
      "metadata": {
        "colab": {
          "base_uri": "https://localhost:8080/",
          "height": 35
        },
        "id": "zqwljcRjklsb",
        "outputId": "ef3d4191-2725-4633-fb46-68f23d1046d1"
      },
      "execution_count": 28,
      "outputs": [
        {
          "output_type": "execute_result",
          "data": {
            "text/plain": [
              "'Eu gosto muito'"
            ],
            "application/vnd.google.colaboratory.intrinsic+json": {
              "type": "string"
            }
          },
          "metadata": {},
          "execution_count": 28
        }
      ]
    },
    {
      "cell_type": "code",
      "source": [
        "texto_fatiar[3:]"
      ],
      "metadata": {
        "colab": {
          "base_uri": "https://localhost:8080/",
          "height": 35
        },
        "id": "Avi1kmXBknuE",
        "outputId": "ea850b25-812f-4bdb-c990-a76a1b3ff968"
      },
      "execution_count": 29,
      "outputs": [
        {
          "output_type": "execute_result",
          "data": {
            "text/plain": [
              "'gosto muito de Python!'"
            ],
            "application/vnd.google.colaboratory.intrinsic+json": {
              "type": "string"
            }
          },
          "metadata": {},
          "execution_count": 29
        }
      ]
    },
    {
      "cell_type": "code",
      "source": [
        "# E agora? O que vocês acham que irá acontecer?????\n",
        "texto_fatiar[0:-0]"
      ],
      "metadata": {
        "colab": {
          "base_uri": "https://localhost:8080/",
          "height": 35
        },
        "id": "6b_ywaLLkqrL",
        "outputId": "f50042c9-3f59-4300-eacf-35a6790033d1"
      },
      "execution_count": 30,
      "outputs": [
        {
          "output_type": "execute_result",
          "data": {
            "text/plain": [
              "''"
            ],
            "application/vnd.google.colaboratory.intrinsic+json": {
              "type": "string"
            }
          },
          "metadata": {},
          "execution_count": 30
        }
      ]
    },
    {
      "cell_type": "markdown",
      "source": [
        "Como já usamos antes, podemos também acessar uma posição específica por meio do seu índice:"
      ],
      "metadata": {
        "id": "Teym0L4Ekvha"
      }
    },
    {
      "cell_type": "code",
      "source": [
        "print(texto_fatiar[18])"
      ],
      "metadata": {
        "colab": {
          "base_uri": "https://localhost:8080/"
        },
        "id": "RzhIWTzpkxXc",
        "outputId": "4d88ad05-6799-46ca-aef9-14c52142e2f0"
      },
      "execution_count": 31,
      "outputs": [
        {
          "output_type": "stream",
          "name": "stdout",
          "text": [
            "P\n"
          ]
        }
      ]
    },
    {
      "cell_type": "code",
      "source": [
        "texto_fatiar[18]"
      ],
      "metadata": {
        "colab": {
          "base_uri": "https://localhost:8080/",
          "height": 35
        },
        "id": "omw76Pi2k1Ik",
        "outputId": "80e7e422-ea2e-4a94-e84b-9eb6e3032f58"
      },
      "execution_count": 32,
      "outputs": [
        {
          "output_type": "execute_result",
          "data": {
            "text/plain": [
              "'P'"
            ],
            "application/vnd.google.colaboratory.intrinsic+json": {
              "type": "string"
            }
          },
          "metadata": {},
          "execution_count": 32
        }
      ]
    },
    {
      "cell_type": "markdown",
      "source": [
        "### Formatação de strings"
      ],
      "metadata": {
        "id": "85NQjatwk4yl"
      }
    },
    {
      "cell_type": "markdown",
      "source": [
        "A formatação de strings visa a substituição de valores em uma string base. Em muitos casos estaremos inserindo outras strings mas também é bem comum a inserção de números (inteiros e decimais). Existem dois métodos disponíveis."
      ],
      "metadata": {
        "id": "wa_WPdnYk7Az"
      }
    },
    {
      "cell_type": "markdown",
      "source": [
        "#### 1º Método"
      ],
      "metadata": {
        "id": "DwjvYEahk9Yq"
      }
    },
    {
      "cell_type": "code",
      "source": [
        "# Uso direto.\n",
        "meu_texto = 'Eu gosto de programar em %s' % 'Python'\n",
        "print(meu_texto)"
      ],
      "metadata": {
        "colab": {
          "base_uri": "https://localhost:8080/"
        },
        "id": "SlzZcuI0lEZu",
        "outputId": "7f687fab-43db-4e37-f86b-e22cb85b4321"
      },
      "execution_count": 33,
      "outputs": [
        {
          "output_type": "stream",
          "name": "stdout",
          "text": [
            "Eu gosto de programar em Python\n"
          ]
        }
      ]
    },
    {
      "cell_type": "code",
      "source": [
        "# Uso de variáveis.\n",
        "var = \"bolo\"\n",
        "segundo_texto = \"Eu gosto de %s\" % var\n",
        "print(segundo_texto)"
      ],
      "metadata": {
        "colab": {
          "base_uri": "https://localhost:8080/"
        },
        "id": "qFqlM9h2lRUp",
        "outputId": "4a3e11b5-3a0a-4d28-c6f1-3ebccb884ecd"
      },
      "execution_count": 34,
      "outputs": [
        {
          "output_type": "stream",
          "name": "stdout",
          "text": [
            "Eu gosto de bolo\n"
          ]
        }
      ]
    },
    {
      "cell_type": "code",
      "source": [
        "# Misturando os dois casos.\n",
        "var = 'teste1'\n",
        "var = 'teste2'\n",
        "terceiro_texto = 'Eu gosto de programar em %s e de %s' % ('Python', var)\n",
        "print(terceiro_texto)"
      ],
      "metadata": {
        "colab": {
          "base_uri": "https://localhost:8080/"
        },
        "id": "lPQsOvZflU_w",
        "outputId": "95ddb816-a98c-4958-f35c-04d6d086bde5"
      },
      "execution_count": 35,
      "outputs": [
        {
          "output_type": "stream",
          "name": "stdout",
          "text": [
            "Eu gosto de programar em Python e de teste2\n"
          ]
        }
      ]
    },
    {
      "cell_type": "markdown",
      "source": [
        "#### 2º Método"
      ],
      "metadata": {
        "id": "r1F1CjWKlXoA"
      }
    },
    {
      "cell_type": "code",
      "source": [
        "ling = \"Python\"\n",
        "print('%(X)s é muito bom!' % {'X':ling})"
      ],
      "metadata": {
        "colab": {
          "base_uri": "https://localhost:8080/"
        },
        "id": "9XyZ7CN-lZBQ",
        "outputId": "74fbf6e3-7ff7-425b-a097-922ac56e3779"
      },
      "execution_count": 36,
      "outputs": [
        {
          "output_type": "stream",
          "name": "stdout",
          "text": [
            "Python é muito bom!\n"
          ]
        }
      ]
    },
    {
      "cell_type": "code",
      "source": [
        "print('%(valor)s %(valor)s %(valor)s!' % {'valor':'SPAM'})"
      ],
      "metadata": {
        "colab": {
          "base_uri": "https://localhost:8080/"
        },
        "id": "AeUhjz3jldDA",
        "outputId": "aa710f87-ec86-4392-aea7-ebc05fb85646"
      },
      "execution_count": 37,
      "outputs": [
        {
          "output_type": "stream",
          "name": "stdout",
          "text": [
            "SPAM SPAM SPAM!\n"
          ]
        }
      ]
    },
    {
      "cell_type": "code",
      "source": [
        "print('%(x)i + %(y)i = %(z)i' % {'x':1, 'y':2, 'z':3})"
      ],
      "metadata": {
        "colab": {
          "base_uri": "https://localhost:8080/"
        },
        "id": "sIpahW_Plg1Y",
        "outputId": "f278b9f2-1191-4c16-cb90-724eb114ad8f"
      },
      "execution_count": 38,
      "outputs": [
        {
          "output_type": "stream",
          "name": "stdout",
          "text": [
            "1 + 2 = 3\n"
          ]
        }
      ]
    },
    {
      "cell_type": "code",
      "source": [
        "print('Python é tão simples quanto {2}, {0}, {1}'.format('a', 'b', 'c'))"
      ],
      "metadata": {
        "colab": {
          "base_uri": "https://localhost:8080/"
        },
        "id": "y_ORM03KlkQg",
        "outputId": "82f2cdd9-1a30-4731-fe83-159a191caeff"
      },
      "execution_count": 39,
      "outputs": [
        {
          "output_type": "stream",
          "name": "stdout",
          "text": [
            "Python é tão simples quanto c, a, b\n"
          ]
        }
      ]
    },
    {
      "cell_type": "markdown",
      "source": [
        "\n",
        "## Listas, Tuplas e Dicionários"
      ],
      "metadata": {
        "id": "BTMeB8EtlpPH"
      }
    },
    {
      "cell_type": "markdown",
      "source": [
        "Listas, tuplas e dicionários são estruturas de dados disponíveis no Python. \n",
        "São muito importantes no dia a dia pois, além de úteis, são utilizados por muitos métodos para entregar resultados."
      ],
      "metadata": {
        "id": "M-C2HdHHlvLP"
      }
    },
    {
      "cell_type": "markdown",
      "source": [
        "### Listas\n",
        "São estruturas mutáveis, ou seja, que podem ser alteradas por intruções diretas após sua criação (por exemplo, reordenadas).\n",
        "\n",
        "Estruturas extremamente poderosas e flexíveis, muito utilizadas no dia a dia de programação na linguagem, podendo conter misturas de tipos e permitindo o aninhamento de outras estruturas.\n",
        "\n",
        "Identificadas por colchetes."
      ],
      "metadata": {
        "id": "vXt-FZhkl0Qn"
      }
    },
    {
      "cell_type": "code",
      "source": [
        "# Criando listas vazias.\n",
        "lista1 = []\n",
        "lista1 = list()"
      ],
      "metadata": {
        "id": "yuPiop6elsbL"
      },
      "execution_count": 40,
      "outputs": []
    },
    {
      "cell_type": "code",
      "source": [
        "# Criando listas a partir de outros objetos.\n",
        "Lista1 = [1, 2, 3]\n",
        "Lista2 = ['a', 'b', 'c']\n",
        "Lista3 = ['a', 1, 'Python', 5]\n",
        "lista_conjunta = [Lista1, Lista2]\n",
        "print(lista_conjunta)"
      ],
      "metadata": {
        "colab": {
          "base_uri": "https://localhost:8080/"
        },
        "id": "l55Co_8cl8NS",
        "outputId": "53ebfa58-c601-4478-cee1-7e0e817298f2"
      },
      "execution_count": 41,
      "outputs": [
        {
          "output_type": "stream",
          "name": "stdout",
          "text": [
            "[[1, 2, 3], ['a', 'b', 'c']]\n"
          ]
        }
      ]
    },
    {
      "cell_type": "code",
      "source": [
        "# Agregando listas.\n",
        "lista_agregada = Lista1 + Lista2\n",
        "print(lista_agregada)"
      ],
      "metadata": {
        "colab": {
          "base_uri": "https://localhost:8080/"
        },
        "id": "c-0Bl7uYl_li",
        "outputId": "b37690c1-ac19-4b38-9b8a-91c151dfc291"
      },
      "execution_count": 42,
      "outputs": [
        {
          "output_type": "stream",
          "name": "stdout",
          "text": [
            "[1, 2, 3, 'a', 'b', 'c']\n"
          ]
        }
      ]
    },
    {
      "cell_type": "code",
      "source": [
        "# Ordenando uma lista.\n",
        "# Atenção pois esta operação será feita \"in-place\", ou seja, \n",
        "#         o objeto será alterado permanentemente.\n",
        "lista_para_ordenar = [32,23,56,76,87,45,90]\n",
        "lista_para_ordenar.sort()\n",
        "print(lista_para_ordenar)\n",
        "lista_para_ordenar.sort(reverse=True)\n",
        "print(lista_para_ordenar)"
      ],
      "metadata": {
        "colab": {
          "base_uri": "https://localhost:8080/"
        },
        "id": "cnuJHt87mDcK",
        "outputId": "63d2164b-d1b6-4a8f-a002-292c36e6b463"
      },
      "execution_count": 43,
      "outputs": [
        {
          "output_type": "stream",
          "name": "stdout",
          "text": [
            "[23, 32, 45, 56, 76, 87, 90]\n",
            "[90, 87, 76, 56, 45, 32, 23]\n"
          ]
        }
      ]
    },
    {
      "cell_type": "code",
      "source": [
        "# E se nossa lista for composta por strings?\n",
        "lista_para_ordenar2 = ['a','B','C','1','z','b']\n",
        "lista_para_ordenar2.sort()\n",
        "lista_para_ordenar2"
      ],
      "metadata": {
        "colab": {
          "base_uri": "https://localhost:8080/"
        },
        "id": "GGuiugnwmGay",
        "outputId": "f3e2901b-00f7-4e06-8e4c-273777a247af"
      },
      "execution_count": 44,
      "outputs": [
        {
          "output_type": "execute_result",
          "data": {
            "text/plain": [
              "['1', 'B', 'C', 'a', 'b', 'z']"
            ]
          },
          "metadata": {},
          "execution_count": 44
        }
      ]
    },
    {
      "cell_type": "code",
      "source": [
        "# Finalmente, e se nossa lista for composta por uma mistura de strings e valores?\n",
        "lista_para_ordenar3 = ['a','B','C',1,'z']\n",
        "lista_para_ordenar3.sort()\n",
        "lista_para_ordenar3"
      ],
      "metadata": {
        "colab": {
          "base_uri": "https://localhost:8080/",
          "height": 217
        },
        "id": "msYP82JomRwZ",
        "outputId": "4854ad84-e9b1-43e6-b936-c1aa575cad66"
      },
      "execution_count": 45,
      "outputs": [
        {
          "output_type": "error",
          "ename": "TypeError",
          "evalue": "ignored",
          "traceback": [
            "\u001b[0;31m---------------------------------------------------------------------------\u001b[0m",
            "\u001b[0;31mTypeError\u001b[0m                                 Traceback (most recent call last)",
            "\u001b[0;32m<ipython-input-45-5b720e6bacae>\u001b[0m in \u001b[0;36m<cell line: 3>\u001b[0;34m()\u001b[0m\n\u001b[1;32m      1\u001b[0m \u001b[0;31m# Finalmente, e se nossa lista for composta por uma mistura de strings e valores?\u001b[0m\u001b[0;34m\u001b[0m\u001b[0;34m\u001b[0m\u001b[0m\n\u001b[1;32m      2\u001b[0m \u001b[0mlista_para_ordenar3\u001b[0m \u001b[0;34m=\u001b[0m \u001b[0;34m[\u001b[0m\u001b[0;34m'a'\u001b[0m\u001b[0;34m,\u001b[0m\u001b[0;34m'B'\u001b[0m\u001b[0;34m,\u001b[0m\u001b[0;34m'C'\u001b[0m\u001b[0;34m,\u001b[0m\u001b[0;36m1\u001b[0m\u001b[0;34m,\u001b[0m\u001b[0;34m'z'\u001b[0m\u001b[0;34m]\u001b[0m\u001b[0;34m\u001b[0m\u001b[0;34m\u001b[0m\u001b[0m\n\u001b[0;32m----> 3\u001b[0;31m \u001b[0mlista_para_ordenar3\u001b[0m\u001b[0;34m.\u001b[0m\u001b[0msort\u001b[0m\u001b[0;34m(\u001b[0m\u001b[0;34m)\u001b[0m\u001b[0;34m\u001b[0m\u001b[0;34m\u001b[0m\u001b[0m\n\u001b[0m\u001b[1;32m      4\u001b[0m \u001b[0mlista_para_ordenar3\u001b[0m\u001b[0;34m\u001b[0m\u001b[0;34m\u001b[0m\u001b[0m\n",
            "\u001b[0;31mTypeError\u001b[0m: '<' not supported between instances of 'int' and 'str'"
          ]
        }
      ]
    },
    {
      "cell_type": "code",
      "source": [
        "# Fatiando uma lista.\n",
        "print(lista_para_ordenar[3:5])"
      ],
      "metadata": {
        "colab": {
          "base_uri": "https://localhost:8080/"
        },
        "id": "ViCIZ_J7mWB5",
        "outputId": "c7bd707c-9298-430d-98d7-7060986d2458"
      },
      "execution_count": 46,
      "outputs": [
        {
          "output_type": "stream",
          "name": "stdout",
          "text": [
            "[56, 45]\n"
          ]
        }
      ]
    },
    {
      "cell_type": "code",
      "source": [
        "# Trocando elementos de uma lista.\n",
        "lista_para_ordenar[2] = 1000\n",
        "print(lista_para_ordenar)"
      ],
      "metadata": {
        "colab": {
          "base_uri": "https://localhost:8080/"
        },
        "id": "TMWM55dkmfF5",
        "outputId": "a9d13b9e-f9bd-4fdb-947b-56c954f7edaa"
      },
      "execution_count": 47,
      "outputs": [
        {
          "output_type": "stream",
          "name": "stdout",
          "text": [
            "[90, 87, 1000, 56, 45, 32, 23]\n"
          ]
        }
      ]
    },
    {
      "cell_type": "markdown",
      "source": [
        "### Tuplas\n",
        "São estruturas imutáveis, ou seja, que não podem ser alteradas por intruções diretas após sua criação (por exemplo, reordenadas).\n",
        "\n",
        "Identificadas por parênteses."
      ],
      "metadata": {
        "id": "QMck_1kbmmJI"
      }
    },
    {
      "cell_type": "code",
      "source": [
        "# Criando e fatiando uma tupla\n",
        "tupla1 = (1, 2, 3, 4, 5)\n",
        "print(tupla1[0:3])"
      ],
      "metadata": {
        "colab": {
          "base_uri": "https://localhost:8080/"
        },
        "id": "XNLbT1KrmiBh",
        "outputId": "262ddb89-ba59-4965-e775-154e591c79cb"
      },
      "execution_count": 48,
      "outputs": [
        {
          "output_type": "stream",
          "name": "stdout",
          "text": [
            "(1, 2, 3)\n"
          ]
        }
      ]
    },
    {
      "cell_type": "code",
      "source": [
        "# Tentando alterar um elemento\n",
        "print(tupla1[3])\n",
        "tupla1[3] = 1000"
      ],
      "metadata": {
        "colab": {
          "base_uri": "https://localhost:8080/",
          "height": 217
        },
        "id": "XOh9CXnkmoII",
        "outputId": "39ea3d69-b7ae-4f52-8034-b2979739b249"
      },
      "execution_count": 49,
      "outputs": [
        {
          "output_type": "stream",
          "name": "stdout",
          "text": [
            "4\n"
          ]
        },
        {
          "output_type": "error",
          "ename": "TypeError",
          "evalue": "ignored",
          "traceback": [
            "\u001b[0;31m---------------------------------------------------------------------------\u001b[0m",
            "\u001b[0;31mTypeError\u001b[0m                                 Traceback (most recent call last)",
            "\u001b[0;32m<ipython-input-49-f8e101beba62>\u001b[0m in \u001b[0;36m<cell line: 3>\u001b[0;34m()\u001b[0m\n\u001b[1;32m      1\u001b[0m \u001b[0;31m# Tentando alterar um elemento\u001b[0m\u001b[0;34m\u001b[0m\u001b[0;34m\u001b[0m\u001b[0m\n\u001b[1;32m      2\u001b[0m \u001b[0mprint\u001b[0m\u001b[0;34m(\u001b[0m\u001b[0mtupla1\u001b[0m\u001b[0;34m[\u001b[0m\u001b[0;36m3\u001b[0m\u001b[0;34m]\u001b[0m\u001b[0;34m)\u001b[0m\u001b[0;34m\u001b[0m\u001b[0;34m\u001b[0m\u001b[0m\n\u001b[0;32m----> 3\u001b[0;31m \u001b[0mtupla1\u001b[0m\u001b[0;34m[\u001b[0m\u001b[0;36m3\u001b[0m\u001b[0;34m]\u001b[0m \u001b[0;34m=\u001b[0m \u001b[0;36m1000\u001b[0m\u001b[0;34m\u001b[0m\u001b[0;34m\u001b[0m\u001b[0m\n\u001b[0m",
            "\u001b[0;31mTypeError\u001b[0m: 'tuple' object does not support item assignment"
          ]
        }
      ]
    },
    {
      "cell_type": "markdown",
      "source": [
        "#### Convertendo lista em tupla e vice-versa."
      ],
      "metadata": {
        "id": "Mtc99OLMmzNe"
      }
    },
    {
      "cell_type": "code",
      "source": [
        "# Convertendo lista em tupla.\n",
        "abc_tupla = tuple([1,2,3])\n",
        "print(abc_tupla)\n",
        "\n",
        "# Convertendo tupla em lista.\n",
        "abc_lista = list(abc_tupla)\n",
        "print(abc_lista)"
      ],
      "metadata": {
        "colab": {
          "base_uri": "https://localhost:8080/"
        },
        "id": "ElbjUsapmspQ",
        "outputId": "abec85d1-47ec-4493-881b-5f9d81efc33a"
      },
      "execution_count": 50,
      "outputs": [
        {
          "output_type": "stream",
          "name": "stdout",
          "text": [
            "(1, 2, 3)\n",
            "[1, 2, 3]\n"
          ]
        }
      ]
    },
    {
      "cell_type": "markdown",
      "source": [
        "### Dicionários\n",
        "São estruturas mutáveis, ou seja, que podem ser alteradas por intruções diretas após sua criação. Neste caso, porém, não existe o conceito de ordenação.\n",
        "\n",
        "Estas estruturas são criadas a partir de pares \"chave-valor\", na estrutura que o desenvolder definir, podendo conter misturas de tipos e aninhamento de outras estruturas, com nas listas.\n",
        "\n",
        "Identificadas por chaves.\n",
        "\n",
        "Para pegar todas as chaves de um dicionário, basta usar o método 'keys'.\n",
        "\n",
        "Para verificar se uma chave existe em um dicionário, basta usar 'in'. "
      ],
      "metadata": {
        "id": "I7tknQQym_-u"
      }
    },
    {
      "cell_type": "code",
      "source": [
        "# Criando um dicionário vazio\n",
        "dicionario = {}\n",
        "outro_dicionario = dict()"
      ],
      "metadata": {
        "id": "KoHnnQEPm05A"
      },
      "execution_count": 51,
      "outputs": []
    },
    {
      "cell_type": "code",
      "source": [
        "# Criando um novo dicionário a partir de elementos\n",
        "outro_dicionario = {'um':1, 'dois':2, 'tres':3}\n",
        "print(outro_dicionario)"
      ],
      "metadata": {
        "colab": {
          "base_uri": "https://localhost:8080/"
        },
        "id": "tVnbHOPenCrf",
        "outputId": "d9c3958b-3a8b-425f-cfc2-1aef6be734e5"
      },
      "execution_count": 52,
      "outputs": [
        {
          "output_type": "stream",
          "name": "stdout",
          "text": [
            "{'um': 1, 'dois': 2, 'tres': 3}\n"
          ]
        }
      ]
    },
    {
      "cell_type": "code",
      "source": [
        "# Acessando uma chave específica do dicionário\n",
        "dicionario = {'nome':'João','end':'Rua das Couves, 123'}\n",
        "dicionario['nome']"
      ],
      "metadata": {
        "colab": {
          "base_uri": "https://localhost:8080/",
          "height": 35
        },
        "id": "3yJIkEExnGO_",
        "outputId": "735f6f0e-d618-46a2-b3f0-5ca84acc1834"
      },
      "execution_count": 53,
      "outputs": [
        {
          "output_type": "execute_result",
          "data": {
            "text/plain": [
              "'João'"
            ],
            "application/vnd.google.colaboratory.intrinsic+json": {
              "type": "string"
            }
          },
          "metadata": {},
          "execution_count": 53
        }
      ]
    },
    {
      "cell_type": "code",
      "source": [
        "# Testando se o índice existe.\n",
        "'nome' in dicionario"
      ],
      "metadata": {
        "colab": {
          "base_uri": "https://localhost:8080/"
        },
        "id": "eNzUrZvynIhX",
        "outputId": "539839a8-c981-4061-fc60-3d17a09f462e"
      },
      "execution_count": 54,
      "outputs": [
        {
          "output_type": "execute_result",
          "data": {
            "text/plain": [
              "True"
            ]
          },
          "metadata": {},
          "execution_count": 54
        }
      ]
    },
    {
      "cell_type": "code",
      "source": [
        "'estado' in dicionario"
      ],
      "metadata": {
        "colab": {
          "base_uri": "https://localhost:8080/"
        },
        "id": "CUahp9hNnOUi",
        "outputId": "6c05cb4a-4a72-434a-b21a-b0ff5dfc21bc"
      },
      "execution_count": 55,
      "outputs": [
        {
          "output_type": "execute_result",
          "data": {
            "text/plain": [
              "False"
            ]
          },
          "metadata": {},
          "execution_count": 55
        }
      ]
    },
    {
      "cell_type": "code",
      "source": [
        "# Listando as chaves existentes em um dicionário\n",
        "dicionario.keys()"
      ],
      "metadata": {
        "colab": {
          "base_uri": "https://localhost:8080/"
        },
        "id": "CyVHGiQQnOou",
        "outputId": "545d3fb4-a218-43e9-a81c-85d138b666fb"
      },
      "execution_count": 56,
      "outputs": [
        {
          "output_type": "execute_result",
          "data": {
            "text/plain": [
              "dict_keys(['nome', 'end'])"
            ]
          },
          "metadata": {},
          "execution_count": 56
        }
      ]
    },
    {
      "cell_type": "code",
      "source": [
        "# Incluindo uma nova chave no dicionário.\n",
        "dicionario['estado'] = 'RJ'\n",
        "print(dicionario)"
      ],
      "metadata": {
        "colab": {
          "base_uri": "https://localhost:8080/"
        },
        "id": "x2PemOkmnQmm",
        "outputId": "54befdf7-ec1f-4072-a89d-cdaebc0736a7"
      },
      "execution_count": 57,
      "outputs": [
        {
          "output_type": "stream",
          "name": "stdout",
          "text": [
            "{'nome': 'João', 'end': 'Rua das Couves, 123', 'estado': 'RJ'}\n"
          ]
        }
      ]
    },
    {
      "cell_type": "code",
      "source": [
        "# Alterando o valor de uma chave.\n",
        "dicionario['estado'] = 'ES'\n",
        "print(dicionario)"
      ],
      "metadata": {
        "colab": {
          "base_uri": "https://localhost:8080/"
        },
        "id": "SHnLUp6RnTq-",
        "outputId": "c6aca1ac-4ba4-464a-f44e-9c31f0d6b820"
      },
      "execution_count": 58,
      "outputs": [
        {
          "output_type": "stream",
          "name": "stdout",
          "text": [
            "{'nome': 'João', 'end': 'Rua das Couves, 123', 'estado': 'ES'}\n"
          ]
        }
      ]
    },
    {
      "cell_type": "markdown",
      "source": [
        "#### Criando uma agenda com dicionarios."
      ],
      "metadata": {
        "id": "7msEWQfvnZw2"
      }
    },
    {
      "cell_type": "code",
      "source": [
        "nome_1 = {'nome': 'João', 'end': 'Rua das Couves, 123'}\n",
        "nome_2 = {'nome': 'Bruxa', 'end': 'Centro da floresta, S/N'}\n",
        "nome_3 = {'nome': 'Maria', 'end': 'Rua das Abóboras, 123'}\n",
        "agenda = {'pos_1':nome_1 , 'pos_2':nome_2 , 'pos_3':nome_3}\n",
        "print(agenda)"
      ],
      "metadata": {
        "colab": {
          "base_uri": "https://localhost:8080/"
        },
        "id": "ahV1mrd4nXBW",
        "outputId": "f001d50e-b186-4d74-bbe9-2ad34793842c"
      },
      "execution_count": 59,
      "outputs": [
        {
          "output_type": "stream",
          "name": "stdout",
          "text": [
            "{'pos_1': {'nome': 'João', 'end': 'Rua das Couves, 123'}, 'pos_2': {'nome': 'Bruxa', 'end': 'Centro da floresta, S/N'}, 'pos_3': {'nome': 'Maria', 'end': 'Rua das Abóboras, 123'}}\n"
          ]
        }
      ]
    },
    {
      "cell_type": "code",
      "source": [
        "# Acessando e imprimindo dados da agenda.\n",
        "agenda_pos_2 = \"A posição dois da agenda é %s\" % agenda['pos_2']\n",
        "print(agenda_pos_2)"
      ],
      "metadata": {
        "colab": {
          "base_uri": "https://localhost:8080/"
        },
        "id": "mlQQctwqnbZ1",
        "outputId": "6d3ee8e4-e413-4009-cb8c-70978772faa9"
      },
      "execution_count": 60,
      "outputs": [
        {
          "output_type": "stream",
          "name": "stdout",
          "text": [
            "A posição dois da agenda é {'nome': 'Bruxa', 'end': 'Centro da floresta, S/N'}\n"
          ]
        }
      ]
    },
    {
      "cell_type": "code",
      "source": [
        "# Fazendo o mesmo, agora de outra forma.\n",
        "print('''A posição dois da agenda é:\n",
        "         Nome    : %s\n",
        "         Endereço: %s''' % (agenda['pos_2']['nome'],agenda['pos_2']['end']))"
      ],
      "metadata": {
        "colab": {
          "base_uri": "https://localhost:8080/"
        },
        "id": "SdLGsVLioB0W",
        "outputId": "98d538b4-820b-48d4-b117-79d1d8c88644"
      },
      "execution_count": 61,
      "outputs": [
        {
          "output_type": "stream",
          "name": "stdout",
          "text": [
            "A posição dois da agenda é:\n",
            "         Nome    : Bruxa\n",
            "         Endereço: Centro da floresta, S/N\n"
          ]
        }
      ]
    },
    {
      "cell_type": "markdown",
      "source": [
        "## Lógica computacional\n",
        "\n",
        "Área da matemática que dá apoio à computação com a base lógica para tomada de decisão em códigos.\n",
        "\n",
        "Referências:\n",
        "- [Lógica Computacional, Prof. Pantoja (Playlist)](https://youtube.com/playlist?list=PLdvD02W3316LJy5lVsihHSvAbEXm1k-ri)\n",
        "- [Expressões lógicas, Mylena Moratta](https://educapes.capes.gov.br/bitstream/capes/597818/2/Express%C3%B5es%20L%C3%B3gicas%20-%20Operadores%20L%C3%B3gicos%20e%20Tabela-verdade.pdf)"
      ],
      "metadata": {
        "id": "G2MU8LE0oOIR"
      }
    },
    {
      "cell_type": "markdown",
      "source": [
        "## Estruturas condicionais\n",
        "Estruturas condicionais dão à uma linguagem de programação o poder de tomar decisões baseada em critérios pré-definidos. \n",
        "\n",
        "Em Python temos a estrutura IF/ELIF/ELSE.\n",
        "\n",
        "Uma estrutura condicional verifica se a cláusula avaliada pelo IF é verdadeira ou falsa. \n",
        "\n",
        "Podemos criar cláusulas mais sofisticadas com o uso de operadores lógicos NOT, AND e OR."
      ],
      "metadata": {
        "id": "GxgHH94hoQUP"
      }
    },
    {
      "cell_type": "markdown",
      "source": [
        "### Estrutura IF"
      ],
      "metadata": {
        "id": "DAgQq4avoSCh"
      }
    },
    {
      "cell_type": "code",
      "source": [
        "if 1 > 2:\n",
        "  print('Verdadeiro!')"
      ],
      "metadata": {
        "id": "5ZuCHtiYoKCT"
      },
      "execution_count": 68,
      "outputs": []
    },
    {
      "cell_type": "code",
      "source": [
        "var1 = 1\n",
        "var2 = 3\n",
        "\n",
        "if var1 > var2:\n",
        "    print('Verdadeiro!')"
      ],
      "metadata": {
        "id": "OXMmHah0oTwi"
      },
      "execution_count": 66,
      "outputs": []
    },
    {
      "cell_type": "code",
      "source": [
        "var1 = 1\n",
        "var2 = 3\n",
        "\n",
        "if var1 > var2:\n",
        "    print('Verdadeiro!')\n",
        "else:\n",
        "    print('Falso!')"
      ],
      "metadata": {
        "colab": {
          "base_uri": "https://localhost:8080/"
        },
        "id": "7C1OxYQooa36",
        "outputId": "48bb80c8-b156-4f6c-ef11-e8a5291ecc22"
      },
      "execution_count": 67,
      "outputs": [
        {
          "output_type": "stream",
          "name": "stdout",
          "text": [
            "Falso!\n"
          ]
        }
      ]
    },
    {
      "cell_type": "code",
      "source": [
        "var1 = int(input('Entre com o primeiro valor: '))\n",
        "var2 = int(input('Entre com o segundo valor: '))\n",
        "\n",
        "if var1 > var2:\n",
        "    print('Primeiro valor MAIOR que o segundo!')\n",
        "elif var1 < var2:\n",
        "    print('Primeiro valor MENOR que o segundo!')\n",
        "else:\n",
        "    print('Valores iguais!')"
      ],
      "metadata": {
        "colab": {
          "base_uri": "https://localhost:8080/"
        },
        "id": "h_ZOH_Ayodoq",
        "outputId": "d998d5b1-401d-4ec2-d993-e16c39aaa1f6"
      },
      "execution_count": 69,
      "outputs": [
        {
          "output_type": "stream",
          "name": "stdout",
          "text": [
            "Entre com o primeiro valor: 2\n",
            "Entre com o segundo valor: 4\n",
            "Primeiro valor MENOR que o segundo!\n"
          ]
        }
      ]
    },
    {
      "cell_type": "markdown",
      "source": [
        "### Exercícios\n",
        "#### 1) Escreva um programa em Python que leia um número e indique se ele é positivo ou negativo."
      ],
      "metadata": {
        "id": "m_f3-kGKoqum"
      }
    },
    {
      "cell_type": "markdown",
      "source": [
        "### Operações lógicas"
      ],
      "metadata": {
        "id": "OT3jXIX9osZl"
      }
    },
    {
      "cell_type": "code",
      "source": [
        "x = 10\n",
        "y = 20\n",
        "\n",
        "if (x < 10) or (y > 15):\n",
        "    print('Verdadeiro!')"
      ],
      "metadata": {
        "colab": {
          "base_uri": "https://localhost:8080/"
        },
        "id": "kVGjgJniokvK",
        "outputId": "b8bb2f37-3f31-4c3e-a590-59a6a8391b13"
      },
      "execution_count": 70,
      "outputs": [
        {
          "output_type": "stream",
          "name": "stdout",
          "text": [
            "Verdadeiro!\n"
          ]
        }
      ]
    },
    {
      "cell_type": "code",
      "source": [
        "x = 10\n",
        "y = 15\n",
        "\n",
        "if (x == 10) and (y == 15):\n",
        "    print('Verdadeiro!')\n",
        "else:\n",
        "    print('Falso!')"
      ],
      "metadata": {
        "colab": {
          "base_uri": "https://localhost:8080/"
        },
        "id": "HjKIabW6ouCp",
        "outputId": "6a078e26-c6c9-4f4f-8480-d1dd1a15b7b3"
      },
      "execution_count": 71,
      "outputs": [
        {
          "output_type": "stream",
          "name": "stdout",
          "text": [
            "Verdadeiro!\n"
          ]
        }
      ]
    },
    {
      "cell_type": "code",
      "source": [
        "# Verificando se existe um elemento em uma lista.\n",
        "lista = [1, 2, 3, 4]\n",
        "x = 3\n",
        "\n",
        "if (x not in lista):\n",
        "    print(\"'x' não está na lista, então verdadeiro!\")\n",
        "else:\n",
        "    print(\"'x' está na lista\")\n",
        "    "
      ],
      "metadata": {
        "colab": {
          "base_uri": "https://localhost:8080/"
        },
        "id": "MPPDJeJsov8a",
        "outputId": "460a800c-5e15-4ecc-ad25-27282f0fa0c8"
      },
      "execution_count": 72,
      "outputs": [
        {
          "output_type": "stream",
          "name": "stdout",
          "text": [
            "'x' está na lista\n"
          ]
        }
      ]
    },
    {
      "cell_type": "code",
      "source": [
        "# Verificando desigualdades\n",
        "x = 10\n",
        "if x != 11:\n",
        "    print('x não é igual a 11!')"
      ],
      "metadata": {
        "colab": {
          "base_uri": "https://localhost:8080/"
        },
        "id": "sg2Jsu5jozYp",
        "outputId": "ee9456d0-ebbe-46f9-f8ef-f5d6bff43623"
      },
      "execution_count": 74,
      "outputs": [
        {
          "output_type": "stream",
          "name": "stdout",
          "text": [
            "x não é igual a 11!\n"
          ]
        }
      ]
    },
    {
      "cell_type": "code",
      "source": [
        "lista = [1, 2, 3, 4]\n",
        "x = 10\n",
        "z = 11\n",
        "\n",
        "if (x not in lista) and (z != 10):\n",
        "    print(\"Verdadeiro!\")"
      ],
      "metadata": {
        "colab": {
          "base_uri": "https://localhost:8080/"
        },
        "id": "IjiVOYrEo1fh",
        "outputId": "6f9269db-6002-4da8-ab19-82b6c9fa798e"
      },
      "execution_count": 75,
      "outputs": [
        {
          "output_type": "stream",
          "name": "stdout",
          "text": [
            "Verdadeiro!\n"
          ]
        }
      ]
    },
    {
      "cell_type": "markdown",
      "source": [
        "### Exercícios\n",
        "#### 2) Escreva um programa em Python que leia três números e indique qual deles é o menor."
      ],
      "metadata": {
        "id": "-fI5C5Uso-CE"
      }
    },
    {
      "cell_type": "markdown",
      "source": [
        "## Estruturas de repetição\n",
        "Toda linguagem de programação oferece algum tipo de estrutura de repetição. Python tem duas: FOR e WHILE.\n",
        "\n",
        "Estruturas de repetição são utilizadas quando queremos executar um conjunto de operações diversas vezes."
      ],
      "metadata": {
        "id": "t1yZigH_pAD0"
      }
    },
    {
      "cell_type": "markdown",
      "source": [
        "### Estrutura FOR\n",
        "Usada para iterar sobre um conjunto de operações um determinado número de vezes."
      ],
      "metadata": {
        "id": "aQCF2swcpBxr"
      }
    },
    {
      "cell_type": "code",
      "source": [
        "# Função que pega um inteiro e retorna uma faixa de valores.\n",
        "list(range(5))"
      ],
      "metadata": {
        "colab": {
          "base_uri": "https://localhost:8080/"
        },
        "id": "pKGX_zx1o7kI",
        "outputId": "b4a2f79d-3258-4dfe-b9db-8bceb2b6c6e9"
      },
      "execution_count": 76,
      "outputs": [
        {
          "output_type": "execute_result",
          "data": {
            "text/plain": [
              "[0, 1, 2, 3, 4]"
            ]
          },
          "metadata": {},
          "execution_count": 76
        }
      ]
    },
    {
      "cell_type": "code",
      "source": [
        "list(range(5,10))"
      ],
      "metadata": {
        "colab": {
          "base_uri": "https://localhost:8080/"
        },
        "id": "W1qebxH2pK_I",
        "outputId": "acb623e2-e063-4ea3-c0e6-b289d146cfb7"
      },
      "execution_count": 77,
      "outputs": [
        {
          "output_type": "execute_result",
          "data": {
            "text/plain": [
              "[5, 6, 7, 8, 9]"
            ]
          },
          "metadata": {},
          "execution_count": 77
        }
      ]
    },
    {
      "cell_type": "code",
      "source": [
        "list(range(1,10,2))"
      ],
      "metadata": {
        "colab": {
          "base_uri": "https://localhost:8080/"
        },
        "id": "Wlf4nkddpOJX",
        "outputId": "f552d88c-5944-446e-f531-a61eb23dd75f"
      },
      "execution_count": 78,
      "outputs": [
        {
          "output_type": "execute_result",
          "data": {
            "text/plain": [
              "[1, 3, 5, 7, 9]"
            ]
          },
          "metadata": {},
          "execution_count": 78
        }
      ]
    },
    {
      "cell_type": "code",
      "source": [
        "for numero in range(1,10,2):\n",
        "    print(numero)"
      ],
      "metadata": {
        "colab": {
          "base_uri": "https://localhost:8080/"
        },
        "id": "B-A0VH_-pPrH",
        "outputId": "e8287fdd-81aa-4360-8935-aa17fe4172f7"
      },
      "execution_count": 79,
      "outputs": [
        {
          "output_type": "stream",
          "name": "stdout",
          "text": [
            "1\n",
            "3\n",
            "5\n",
            "7\n",
            "9\n"
          ]
        }
      ]
    },
    {
      "cell_type": "code",
      "source": [
        "# De outra forma:\n",
        "for numero in [0,1,2,3,4]:\n",
        "    print(numero)"
      ],
      "metadata": {
        "colab": {
          "base_uri": "https://localhost:8080/"
        },
        "id": "ncL3K6v9pUFn",
        "outputId": "f6fccfd7-0fee-4222-e942-178a15f469e8"
      },
      "execution_count": 80,
      "outputs": [
        {
          "output_type": "stream",
          "name": "stdout",
          "text": [
            "0\n",
            "1\n",
            "2\n",
            "3\n",
            "4\n"
          ]
        }
      ]
    },
    {
      "cell_type": "code",
      "source": [
        "# Iterando em um dicionário.\n",
        "outro_dicionario = {'um':1, 'dois':2, 'tres':3}\n",
        "for key in outro_dicionario:\n",
        "    print(key)\n",
        "    print(outro_dicionario[key])"
      ],
      "metadata": {
        "colab": {
          "base_uri": "https://localhost:8080/"
        },
        "id": "5-xsiM8ypZTO",
        "outputId": "3ace1ce7-7867-4f6e-cd1d-60a88b4013b5"
      },
      "execution_count": 81,
      "outputs": [
        {
          "output_type": "stream",
          "name": "stdout",
          "text": [
            "um\n",
            "1\n",
            "dois\n",
            "2\n",
            "tres\n",
            "3\n"
          ]
        }
      ]
    },
    {
      "cell_type": "code",
      "source": [
        "for numero in range(0,10,2):\n",
        "    if numero % 2 == 0:\n",
        "        print('É par!')\n",
        "    else:\n",
        "        print('É ímpar!')"
      ],
      "metadata": {
        "colab": {
          "base_uri": "https://localhost:8080/"
        },
        "id": "k4JbKX-stlGB",
        "outputId": "43e92d31-d63a-42bf-922e-afcfbfd3be50"
      },
      "execution_count": 82,
      "outputs": [
        {
          "output_type": "stream",
          "name": "stdout",
          "text": [
            "É par!\n",
            "É par!\n",
            "É par!\n",
            "É par!\n",
            "É par!\n"
          ]
        }
      ]
    },
    {
      "cell_type": "markdown",
      "source": [
        "### Exercícios\n",
        "#### 3) Escreva um programa em Python que escreva na tela os números de 1 a 10. Use a estrutura de repetição FOR."
      ],
      "metadata": {
        "id": "SsiXTrcbtw4V"
      }
    },
    {
      "cell_type": "markdown",
      "source": [
        "### Estrutura WHILE\n",
        "Também repete seções de código, porém até que uma determinada condição aconteça e não um número determinado de vezes."
      ],
      "metadata": {
        "id": "tu8mGkCKtzUH"
      }
    },
    {
      "cell_type": "code",
      "source": [
        "i = 0\n",
        "\n",
        "while i < 10:\n",
        "    i = i + 1\n",
        "    print(i)"
      ],
      "metadata": {
        "colab": {
          "base_uri": "https://localhost:8080/"
        },
        "id": "BKv7vwNBttMI",
        "outputId": "d7910754-77e8-497c-df01-870cf95adb5f"
      },
      "execution_count": 83,
      "outputs": [
        {
          "output_type": "stream",
          "name": "stdout",
          "text": [
            "1\n",
            "2\n",
            "3\n",
            "4\n",
            "5\n",
            "6\n",
            "7\n",
            "8\n",
            "9\n",
            "10\n"
          ]
        }
      ]
    },
    {
      "cell_type": "code",
      "source": [
        "i = 0\n",
        "\n",
        "while i < 10:\n",
        "    print(i)\n",
        "    if i == 5:\n",
        "        break # Controle de fluxo.\n",
        "    i += 1 # Uma outra forma de incrementar."
      ],
      "metadata": {
        "colab": {
          "base_uri": "https://localhost:8080/"
        },
        "id": "JePjYEdLuBfk",
        "outputId": "b4393a72-0918-4103-c2be-652ce2d16473"
      },
      "execution_count": 84,
      "outputs": [
        {
          "output_type": "stream",
          "name": "stdout",
          "text": [
            "0\n",
            "1\n",
            "2\n",
            "3\n",
            "4\n",
            "5\n"
          ]
        }
      ]
    },
    {
      "cell_type": "code",
      "source": [
        "i = 0\n",
        "\n",
        "while i < 10:\n",
        "    if i == 3: # Pula o 3!\n",
        "        i += 1\n",
        "        continue\n",
        "\n",
        "    print(i)\n",
        "    \n",
        "    if i == 5:\n",
        "        break\n",
        "    i += 1"
      ],
      "metadata": {
        "colab": {
          "base_uri": "https://localhost:8080/"
        },
        "id": "DR3Gm18MuKvp",
        "outputId": "036876ac-b4f2-4633-e5a4-7d5ed576ebaa"
      },
      "execution_count": 85,
      "outputs": [
        {
          "output_type": "stream",
          "name": "stdout",
          "text": [
            "0\n",
            "1\n",
            "2\n",
            "4\n",
            "5\n"
          ]
        }
      ]
    },
    {
      "cell_type": "markdown",
      "source": [
        "### Exercícios\n",
        "#### 4) Escreva um programa em Python que escreva na tela os números de 1 a 10. Use a estrutura de repetição WHILE."
      ],
      "metadata": {
        "id": "gPnYFJBtuhPI"
      }
    },
    {
      "cell_type": "markdown",
      "source": [
        "## Funções\n",
        "Uma função é uma estrutura definida pelo usuário, podendo ter argumentos ou não e alguns destes argumentos podem ter valores predefinidos.\n",
        "\n",
        "Uma função é um bloco de código que inicia com a palavra reservada DEF seguida de um nome para a função, eventuais parâmetros e dois pontos."
      ],
      "metadata": {
        "id": "a6kDUSAsukPp"
      }
    },
    {
      "cell_type": "code",
      "source": [
        "# Esta função não faz nada especial, apenas imprime um texto simples.\n",
        "def funcao_1():\n",
        "    print('Função criada!')"
      ],
      "metadata": {
        "id": "7qAekl9Julec"
      },
      "execution_count": 86,
      "outputs": []
    },
    {
      "cell_type": "code",
      "source": [
        "# Para chamar a função, basta \"invocá-la\" pelo nome, seguido de abre e fecha parênteses, já que não temos parâmetros.\n",
        "funcao_1()"
      ],
      "metadata": {
        "colab": {
          "base_uri": "https://localhost:8080/"
        },
        "id": "4JwqKpjrupD4",
        "outputId": "a27003f1-7f00-4c81-d0de-62da4725b6d1"
      },
      "execution_count": 87,
      "outputs": [
        {
          "output_type": "stream",
          "name": "stdout",
          "text": [
            "Função criada!\n"
          ]
        }
      ]
    },
    {
      "cell_type": "markdown",
      "source": [
        "Uma prática interessante é ir criando as funções e depois preenchê-las com o código necessário.\n",
        "\n",
        "Uma forma de fazer isso em Python é usar a função PASS. \n",
        "\n",
        "É apenas uma operação nula. \n",
        "\n",
        "Este tipo de função em computação é chamado de STUB, ou seja, um pedaço de código usado para substituir algumas outras funcionalidades de programação"
      ],
      "metadata": {
        "id": "KY4T2-tLutMg"
      }
    },
    {
      "cell_type": "code",
      "source": [
        "# Criando uma função STUB.\n",
        "def funcao_vazia():\n",
        "    pass\n",
        "\n",
        "# Chamando a função.\n",
        "funcao_vazia()"
      ],
      "metadata": {
        "id": "Pkj39nI9usUA"
      },
      "execution_count": 89,
      "outputs": []
    },
    {
      "cell_type": "markdown",
      "source": [
        "### Passando argumentos para uma função"
      ],
      "metadata": {
        "id": "3sY7IIGqu1lJ"
      }
    },
    {
      "cell_type": "code",
      "source": [
        "def soma1(a, b):\n",
        "    resultado = a + b\n",
        "    return resultado\n",
        "\n",
        "var = soma1(2,3)\n",
        "print(var)"
      ],
      "metadata": {
        "colab": {
          "base_uri": "https://localhost:8080/"
        },
        "id": "2aqBp7wfu2-A",
        "outputId": "9725e886-e2ee-4d3e-a30b-59ae90d6efd0"
      },
      "execution_count": 90,
      "outputs": [
        {
          "output_type": "stream",
          "name": "stdout",
          "text": [
            "5\n"
          ]
        }
      ]
    },
    {
      "cell_type": "markdown",
      "source": [
        "Importante mencionar que uma função SEMPRE retorna algo, mesmo que seja NONE (representação do \"nada)\". \n",
        "\n",
        "No caso acima, pedimos que retornasse o resultado da soma dos dois valores passados ao chamarmos a função.\n",
        "\n",
        "Caso passe argumentos a mais ou a menos, o Python gerará um erro."
      ],
      "metadata": {
        "id": "JbamjRCIu87P"
      }
    },
    {
      "cell_type": "code",
      "source": [
        "soma1(5)"
      ],
      "metadata": {
        "colab": {
          "base_uri": "https://localhost:8080/",
          "height": 165
        },
        "id": "sSHRcFNdu_9X",
        "outputId": "a739709d-c87a-41be-e826-fb0229a25fbb"
      },
      "execution_count": 91,
      "outputs": [
        {
          "output_type": "error",
          "ename": "TypeError",
          "evalue": "ignored",
          "traceback": [
            "\u001b[0;31m---------------------------------------------------------------------------\u001b[0m",
            "\u001b[0;31mTypeError\u001b[0m                                 Traceback (most recent call last)",
            "\u001b[0;32m<ipython-input-91-b18681370d04>\u001b[0m in \u001b[0;36m<cell line: 1>\u001b[0;34m()\u001b[0m\n\u001b[0;32m----> 1\u001b[0;31m \u001b[0msoma1\u001b[0m\u001b[0;34m(\u001b[0m\u001b[0;36m5\u001b[0m\u001b[0;34m)\u001b[0m\u001b[0;34m\u001b[0m\u001b[0;34m\u001b[0m\u001b[0m\n\u001b[0m",
            "\u001b[0;31mTypeError\u001b[0m: soma1() missing 1 required positional argument: 'b'"
          ]
        }
      ]
    },
    {
      "cell_type": "code",
      "source": [
        "soma1(4,3,2)"
      ],
      "metadata": {
        "colab": {
          "base_uri": "https://localhost:8080/",
          "height": 165
        },
        "id": "-gLUjRXEvKgG",
        "outputId": "e60d9d14-c840-4b73-f17a-8a8830e1ed08"
      },
      "execution_count": 92,
      "outputs": [
        {
          "output_type": "error",
          "ename": "TypeError",
          "evalue": "ignored",
          "traceback": [
            "\u001b[0;31m---------------------------------------------------------------------------\u001b[0m",
            "\u001b[0;31mTypeError\u001b[0m                                 Traceback (most recent call last)",
            "\u001b[0;32m<ipython-input-92-b9726b3afc2b>\u001b[0m in \u001b[0;36m<cell line: 1>\u001b[0;34m()\u001b[0m\n\u001b[0;32m----> 1\u001b[0;31m \u001b[0msoma1\u001b[0m\u001b[0;34m(\u001b[0m\u001b[0;36m4\u001b[0m\u001b[0;34m,\u001b[0m\u001b[0;36m3\u001b[0m\u001b[0;34m,\u001b[0m\u001b[0;36m2\u001b[0m\u001b[0;34m)\u001b[0m\u001b[0;34m\u001b[0m\u001b[0;34m\u001b[0m\u001b[0m\n\u001b[0m",
            "\u001b[0;31mTypeError\u001b[0m: soma1() takes 2 positional arguments but 3 were given"
          ]
        }
      ]
    },
    {
      "cell_type": "markdown",
      "source": [
        "Uma outra possibilidade é passar os os argumentos pelo nome.\n",
        "\n",
        "Neste caso, a ordem não precisa ser a mesma estabelecida na definição da função."
      ],
      "metadata": {
        "id": "tBEMKdoou-a2"
      }
    },
    {
      "cell_type": "code",
      "source": [
        "soma1(b=10, a=15)"
      ],
      "metadata": {
        "colab": {
          "base_uri": "https://localhost:8080/"
        },
        "id": "YKCGJJ8Hu-if",
        "outputId": "826cd831-1e70-41cb-8695-6b68a0cfdbca"
      },
      "execution_count": 93,
      "outputs": [
        {
          "output_type": "execute_result",
          "data": {
            "text/plain": [
              "25"
            ]
          },
          "metadata": {},
          "execution_count": 93
        }
      ]
    },
    {
      "cell_type": "markdown",
      "source": [
        "### Funções com argumentos predefinidos"
      ],
      "metadata": {
        "id": "NpScOIbRvS7g"
      }
    },
    {
      "cell_type": "code",
      "source": [
        "def funcao_2(a, b=2, c=3):\n",
        "    return a+b+c"
      ],
      "metadata": {
        "id": "ky2MR_8jvUQX"
      },
      "execution_count": 94,
      "outputs": []
    },
    {
      "cell_type": "code",
      "source": [
        "funcao_2(1, b=4, c=5)"
      ],
      "metadata": {
        "colab": {
          "base_uri": "https://localhost:8080/"
        },
        "id": "ksuyNgTovX6e",
        "outputId": "1cefb578-0655-4a29-94e5-f42d94827f01"
      },
      "execution_count": 95,
      "outputs": [
        {
          "output_type": "execute_result",
          "data": {
            "text/plain": [
              "10"
            ]
          },
          "metadata": {},
          "execution_count": 95
        }
      ]
    },
    {
      "cell_type": "code",
      "source": [
        "funcao_2(1)"
      ],
      "metadata": {
        "colab": {
          "base_uri": "https://localhost:8080/"
        },
        "id": "PKbQypqMva-O",
        "outputId": "10b8fd21-b521-4338-e199-e338bd1c7a2a"
      },
      "execution_count": 96,
      "outputs": [
        {
          "output_type": "execute_result",
          "data": {
            "text/plain": [
              "6"
            ]
          },
          "metadata": {},
          "execution_count": 96
        }
      ]
    },
    {
      "cell_type": "code",
      "source": [
        "funcao_2(b=4, c=5)"
      ],
      "metadata": {
        "colab": {
          "base_uri": "https://localhost:8080/",
          "height": 165
        },
        "id": "en6Mc4RKvexF",
        "outputId": "ef3a2ce4-0f8c-409d-b9fc-a3f00d151630"
      },
      "execution_count": 97,
      "outputs": [
        {
          "output_type": "error",
          "ename": "TypeError",
          "evalue": "ignored",
          "traceback": [
            "\u001b[0;31m---------------------------------------------------------------------------\u001b[0m",
            "\u001b[0;31mTypeError\u001b[0m                                 Traceback (most recent call last)",
            "\u001b[0;32m<ipython-input-97-71d36f60b900>\u001b[0m in \u001b[0;36m<cell line: 1>\u001b[0;34m()\u001b[0m\n\u001b[0;32m----> 1\u001b[0;31m \u001b[0mfuncao_2\u001b[0m\u001b[0;34m(\u001b[0m\u001b[0mb\u001b[0m\u001b[0;34m=\u001b[0m\u001b[0;36m4\u001b[0m\u001b[0;34m,\u001b[0m \u001b[0mc\u001b[0m\u001b[0;34m=\u001b[0m\u001b[0;36m5\u001b[0m\u001b[0;34m)\u001b[0m\u001b[0;34m\u001b[0m\u001b[0;34m\u001b[0m\u001b[0m\n\u001b[0m",
            "\u001b[0;31mTypeError\u001b[0m: funcao_2() missing 1 required positional argument: 'a'"
          ]
        }
      ]
    },
    {
      "cell_type": "markdown",
      "source": [
        "OBS.: ao usarmos argumentos predefinidos, estes devem vir sempre ao final da lista de argumentos na criação da função!"
      ],
      "metadata": {
        "id": "3M6HoD-Dvll-"
      }
    },
    {
      "cell_type": "code",
      "source": [
        "def funcao_2(b=2, a, c=3):\n",
        "    return a+b+c"
      ],
      "metadata": {
        "colab": {
          "base_uri": "https://localhost:8080/",
          "height": 130
        },
        "id": "JCAixfTdvmy8",
        "outputId": "47cee82a-fdc4-421b-e449-ac7e3ce9d4f8"
      },
      "execution_count": 98,
      "outputs": [
        {
          "output_type": "error",
          "ename": "SyntaxError",
          "evalue": "ignored",
          "traceback": [
            "\u001b[0;36m  File \u001b[0;32m\"<ipython-input-98-d2f37847ab02>\"\u001b[0;36m, line \u001b[0;32m1\u001b[0m\n\u001b[0;31m    def funcao_2(b=2, a, c=3):\u001b[0m\n\u001b[0m                      ^\u001b[0m\n\u001b[0;31mSyntaxError\u001b[0m\u001b[0;31m:\u001b[0m non-default argument follows default argument\n"
          ]
        }
      ]
    },
    {
      "cell_type": "markdown",
      "source": [
        "### \\*args e \\*\\*kwargs\n",
        "Podemos também configurar funções para aceitar um número qualquer de argumentos. \n",
        "\n",
        "Para infinitos argumentos, usar \\*args.\n",
        "\n",
        "Para infinitos argumentos predefinidos, usar \\*\\*kwargs."
      ],
      "metadata": {
        "id": "yvXPJ_dYvsYF"
      }
    },
    {
      "cell_type": "code",
      "source": [
        "def varios(*args, **kwargs):\n",
        "    print(args)\n",
        "    print(kwargs)\n",
        "\n",
        "varios(1, 2, 3, name=\"Paulo\", job=\"RH\")"
      ],
      "metadata": {
        "colab": {
          "base_uri": "https://localhost:8080/"
        },
        "id": "TYjkskPnvu3U",
        "outputId": "969045c6-2842-4df8-faae-0d73dc124a2d"
      },
      "execution_count": 99,
      "outputs": [
        {
          "output_type": "stream",
          "name": "stdout",
          "text": [
            "(1, 2, 3)\n",
            "{'name': 'Paulo', 'job': 'RH'}\n"
          ]
        }
      ]
    },
    {
      "cell_type": "markdown",
      "source": [
        "Particularmente em Python, uma função pode ter mais de um retorno! "
      ],
      "metadata": {
        "id": "WUdkJqb2v20t"
      }
    },
    {
      "cell_type": "code",
      "source": [
        "def funcao_3(a, b=2, c=3):\n",
        "    return a,b,c\n",
        "\n",
        "a2, b2, c2 = funcao_3(10, 20, 30)\n",
        "print(a2)\n",
        "print(b2)\n",
        "print(c2)"
      ],
      "metadata": {
        "colab": {
          "base_uri": "https://localhost:8080/"
        },
        "id": "Q4_3CWzNv66F",
        "outputId": "f484d7ab-0398-4921-c2ac-d4e8e35dd42b"
      },
      "execution_count": 100,
      "outputs": [
        {
          "output_type": "stream",
          "name": "stdout",
          "text": [
            "10\n",
            "20\n",
            "30\n"
          ]
        }
      ]
    },
    {
      "cell_type": "markdown",
      "source": [
        "### Escopo de variáveis\n",
        "Um importante conceito relacionado às linguagens de programação diz respeito ao escopo das variáveis.\n",
        "\n",
        "O escopo nos diz quando e onde a variável estará disponível.\n",
        "\n",
        "No caso de funções em Python, variáveis definidas dentro da função só podem ser utilizadas dentro daquela função. Assim que a função termina, as variáveis deixam de existir."
      ],
      "metadata": {
        "id": "Dj2KjnrbwZkK"
      }
    },
    {
      "cell_type": "code",
      "source": [
        "def funcao_a():\n",
        "    a = 1\n",
        "    b = 2\n",
        "    return a+b\n",
        "\n",
        "def funcao_b():\n",
        "    c = 3\n",
        "    return a+c\n",
        "\n",
        "print(funcao_a())\n"
      ],
      "metadata": {
        "colab": {
          "base_uri": "https://localhost:8080/"
        },
        "id": "0r2pcMCNwYeC",
        "outputId": "b14ca1b3-3b40-4924-f545-1456353f29bc"
      },
      "execution_count": 102,
      "outputs": [
        {
          "output_type": "stream",
          "name": "stdout",
          "text": [
            "3\n"
          ]
        }
      ]
    },
    {
      "cell_type": "code",
      "source": [
        "print(funcao_b())"
      ],
      "metadata": {
        "colab": {
          "base_uri": "https://localhost:8080/",
          "height": 287
        },
        "id": "pJdCSJyEwmkJ",
        "outputId": "c71a2249-b6e1-493f-9ec2-e2c61833ea57"
      },
      "execution_count": 103,
      "outputs": [
        {
          "output_type": "error",
          "ename": "NameError",
          "evalue": "ignored",
          "traceback": [
            "\u001b[0;31m---------------------------------------------------------------------------\u001b[0m",
            "\u001b[0;31mNameError\u001b[0m                                 Traceback (most recent call last)",
            "\u001b[0;32m<ipython-input-103-94671c1b7459>\u001b[0m in \u001b[0;36m<cell line: 1>\u001b[0;34m()\u001b[0m\n\u001b[0;32m----> 1\u001b[0;31m \u001b[0mprint\u001b[0m\u001b[0;34m(\u001b[0m\u001b[0mfuncao_b\u001b[0m\u001b[0;34m(\u001b[0m\u001b[0;34m)\u001b[0m\u001b[0;34m)\u001b[0m\u001b[0;34m\u001b[0m\u001b[0;34m\u001b[0m\u001b[0m\n\u001b[0m",
            "\u001b[0;32m<ipython-input-102-8d216d886a48>\u001b[0m in \u001b[0;36mfuncao_b\u001b[0;34m()\u001b[0m\n\u001b[1;32m      6\u001b[0m \u001b[0;32mdef\u001b[0m \u001b[0mfuncao_b\u001b[0m\u001b[0;34m(\u001b[0m\u001b[0;34m)\u001b[0m\u001b[0;34m:\u001b[0m\u001b[0;34m\u001b[0m\u001b[0;34m\u001b[0m\u001b[0m\n\u001b[1;32m      7\u001b[0m     \u001b[0mc\u001b[0m \u001b[0;34m=\u001b[0m \u001b[0;36m3\u001b[0m\u001b[0;34m\u001b[0m\u001b[0;34m\u001b[0m\u001b[0m\n\u001b[0;32m----> 8\u001b[0;31m     \u001b[0;32mreturn\u001b[0m \u001b[0ma\u001b[0m\u001b[0;34m+\u001b[0m\u001b[0mc\u001b[0m\u001b[0;34m\u001b[0m\u001b[0;34m\u001b[0m\u001b[0m\n\u001b[0m\u001b[1;32m      9\u001b[0m \u001b[0;34m\u001b[0m\u001b[0m\n\u001b[1;32m     10\u001b[0m \u001b[0mprint\u001b[0m\u001b[0;34m(\u001b[0m\u001b[0mfuncao_a\u001b[0m\u001b[0;34m(\u001b[0m\u001b[0;34m)\u001b[0m\u001b[0;34m)\u001b[0m\u001b[0;34m\u001b[0m\u001b[0;34m\u001b[0m\u001b[0m\n",
            "\u001b[0;31mNameError\u001b[0m: name 'a' is not defined"
          ]
        }
      ]
    },
    {
      "cell_type": "markdown",
      "source": [
        "A questão aqui é que a variável 'a' só existe no escopo da 'funcao_a' e não está disponível para a função 'b'.\n",
        "\n",
        "Vamos ver como resolver o problema."
      ],
      "metadata": {
        "id": "5sk-ixO6wpiS"
      }
    },
    {
      "cell_type": "code",
      "source": [
        "def funcao_a():\n",
        "    global a,b # Esta instrução disponibiliza a variável 'a' fora da função.\n",
        "    a = 1\n",
        "    b = 2\n",
        "    return a+b\n",
        "\n",
        "def funcao_b():\n",
        "    c = 3\n",
        "    return a+c\n",
        "\n",
        "print(funcao_a())\n",
        "print(funcao_b())"
      ],
      "metadata": {
        "colab": {
          "base_uri": "https://localhost:8080/"
        },
        "id": "LRYWK1bvwrGQ",
        "outputId": "ff633e39-ddc0-47cb-fec0-ed243ff15148"
      },
      "execution_count": 104,
      "outputs": [
        {
          "output_type": "stream",
          "name": "stdout",
          "text": [
            "3\n",
            "4\n"
          ]
        }
      ]
    },
    {
      "cell_type": "markdown",
      "source": [
        "ATENÇÃO!\n",
        "Esta não é uma prática recomendada pois desta forma perdemos a referência do local onde a variável foi definida. \n",
        "Outra questão é que ao definir uma variável como global em um local específico, podemos acidentalmente redefini-la em outro, gerando erros de lógica bem difíceis de rastrear."
      ],
      "metadata": {
        "id": "0gK_wj38ww55"
      }
    }
  ]
}